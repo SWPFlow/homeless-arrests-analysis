{
 "cells": [
  {
   "cell_type": "markdown",
   "metadata": {},
   "source": [
    "## L.A. homeless arrests analysis\n",
    "\n",
    "By [Christine Zhang](mailto:ychristinezhang@gmail.com)"
   ]
  },
  {
   "cell_type": "markdown",
   "metadata": {},
   "source": [
    "The Los Angeles Times analyzed daily arrest logs between January 1, 2011 and December 31, 2016 from the LAPD to determine yearly trends in arrests of homeless people.\n",
    "\n",
    "The results were reported in a February 4, 2018, Los Angeles Times story titled [\"L.A. leaders oppose 'criminalizing' homeless people. But thousands are jailed for minor offenses\"](http://www.latimes.com/local/politics/la-me-homeless-arrests-20180203-story.html).\n",
    "\n",
    "Here are the key findings of the data analysis, which is documented below with code written in the programming language R:\n",
    "\n",
    "   * The LAPD made 14,000 arrests of homeless people last year, a 30% increase over 2011\n",
    "   * LAPD arrests overall went down 15% from 2011 to 2016\n",
    "   * Two-thirds of those arrested were black or Latino\n",
    "   * In 2011, one in 10 people arrests citywide were of homeless people; in 2016, it was 1 in 6\n",
    "   * The 14,000 arrests of homeless people in 2016 included more than 500 unique charges\n",
    "   * By far the most common was failing to appear in court on an unpaid infraction or misdemeanor citation\n",
    "   * The top five charges were for non-violent or minor offenses\n",
    "   \n",
    "Read more about the methodology [here](../README.md)."
   ]
  },
  {
   "cell_type": "markdown",
   "metadata": {},
   "source": [
    "## How we did it"
   ]
  },
  {
   "cell_type": "markdown",
   "metadata": {},
   "source": [
    "### Import R data analysis libraries"
   ]
  },
  {
   "cell_type": "code",
   "execution_count": 20,
   "metadata": {},
   "outputs": [],
   "source": [
    "library('dplyr')\n",
    "library('feather')\n",
    "library('ggplot2')"
   ]
  },
  {
   "cell_type": "markdown",
   "metadata": {},
   "source": [
    "The file `arrests.feather.zip` must first be unzipped to run this notebook. This is a file that has been prepared outside of this notebook as part of an unpublished processing script. The raw LAPD data includes names and other identifying information about arrestees that The Times has chosen to withhold.  "
   ]
  },
  {
   "cell_type": "code",
   "execution_count": 21,
   "metadata": {},
   "outputs": [],
   "source": [
    "unzip(\"arrests.zip\")"
   ]
  },
  {
   "cell_type": "markdown",
   "metadata": {},
   "source": [
    "### Finding: The LAPD made 14,000 arrests of homeless people last year, a 30% increase over 2011"
   ]
  },
  {
   "cell_type": "markdown",
   "metadata": {},
   "source": [
    "Read in the data for analysis. Note that the data has been pre-processed to remove the name, address and date of birth fields for privacy purposes. Age was calculated based on the individual's date of birth at the time of arrest."
   ]
  },
  {
   "cell_type": "code",
   "execution_count": 22,
   "metadata": {},
   "outputs": [],
   "source": [
    "data <- read_feather('arrests.feather')"
   ]
  },
  {
   "cell_type": "code",
   "execution_count": 23,
   "metadata": {},
   "outputs": [
    {
     "data": {
      "text/html": [
       "<ol class=list-inline>\n",
       "\t<li>'booking_num'</li>\n",
       "\t<li>'homeless'</li>\n",
       "\t<li>'arrest_year'</li>\n",
       "\t<li>'arrest_ymd'</li>\n",
       "\t<li>'booking_ymd'</li>\n",
       "\t<li>'gender'</li>\n",
       "\t<li>'race'</li>\n",
       "\t<li>'age'</li>\n",
       "\t<li>'occupation'</li>\n",
       "\t<li>'charge_code'</li>\n",
       "\t<li>'charge_desc'</li>\n",
       "</ol>\n"
      ],
      "text/latex": [
       "\\begin{enumerate*}\n",
       "\\item 'booking\\_num'\n",
       "\\item 'homeless'\n",
       "\\item 'arrest\\_year'\n",
       "\\item 'arrest\\_ymd'\n",
       "\\item 'booking\\_ymd'\n",
       "\\item 'gender'\n",
       "\\item 'race'\n",
       "\\item 'age'\n",
       "\\item 'occupation'\n",
       "\\item 'charge\\_code'\n",
       "\\item 'charge\\_desc'\n",
       "\\end{enumerate*}\n"
      ],
      "text/markdown": [
       "1. 'booking_num'\n",
       "2. 'homeless'\n",
       "3. 'arrest_year'\n",
       "4. 'arrest_ymd'\n",
       "5. 'booking_ymd'\n",
       "6. 'gender'\n",
       "7. 'race'\n",
       "8. 'age'\n",
       "9. 'occupation'\n",
       "10. 'charge_code'\n",
       "11. 'charge_desc'\n",
       "\n",
       "\n"
      ],
      "text/plain": [
       " [1] \"booking_num\" \"homeless\"    \"arrest_year\" \"arrest_ymd\"  \"booking_ymd\"\n",
       " [6] \"gender\"      \"race\"        \"age\"         \"occupation\"  \"charge_code\"\n",
       "[11] \"charge_desc\""
      ]
     },
     "metadata": {},
     "output_type": "display_data"
    }
   ],
   "source": [
    "names(data)"
   ]
  },
  {
   "cell_type": "code",
   "execution_count": 24,
   "metadata": {},
   "outputs": [
    {
     "data": {
      "text/html": [
       "<table>\n",
       "<thead><tr><th scope=col>booking_num</th><th scope=col>homeless</th><th scope=col>arrest_year</th><th scope=col>arrest_ymd</th><th scope=col>booking_ymd</th><th scope=col>gender</th><th scope=col>race</th><th scope=col>age</th><th scope=col>occupation</th><th scope=col>charge_code</th><th scope=col>charge_desc</th></tr></thead>\n",
       "<tbody>\n",
       "\t<tr><td>2497688                                </td><td>0                                      </td><td>2011                                   </td><td>2011-01-01                             </td><td>2011-01-01                             </td><td>M                                      </td><td>W                                      </td><td>25                                     </td><td>ENGINEER                               </td><td>23152(A)VC                             </td><td>drunk-driving-alcoholdrugs             </td></tr>\n",
       "\t<tr><td>2497689                                </td><td>0                                      </td><td>2011                                   </td><td>2011-01-01                             </td><td>2011-01-01                             </td><td>M                                      </td><td>H                                      </td><td>38                                     </td><td>AGENT                                  </td><td>23152(A)VC                             </td><td>drunk-driving-alcoholdrugs             </td></tr>\n",
       "\t<tr><td>2497690                                </td><td>0                                      </td><td>2011                                   </td><td>2011-01-01                             </td><td>2011-01-01                             </td><td>M                                      </td><td>W                                      </td><td>25                                     </td><td>BUSINESS DEV                           </td><td>23152(A)VC                             </td><td>drunk-driving-alcoholdrugs             </td></tr>\n",
       "\t<tr><td>2497697                                </td><td>0                                      </td><td>2011                                   </td><td>2011-01-01                             </td><td>2011-01-01                             </td><td>F                                      </td><td>W                                      </td><td>40                                     </td><td>NONE                                   </td><td>273.5(A)PC                             </td><td>corporal-injury-on-spousecohabitantet  </td></tr>\n",
       "\t<tr><td>2497698                                </td><td>0                                      </td><td>2011                                   </td><td>2011-01-01                             </td><td>2011-01-01                             </td><td>M                                      </td><td>H                                      </td><td>34                                     </td><td>LABORER                                </td><td>12021(A)PC                             </td><td>poss-firearm-by-convictd-felonaddicte-1</td></tr>\n",
       "\t<tr><td>2497699                                </td><td>0                                      </td><td>2011                                   </td><td>2011-01-01                             </td><td>2011-01-01                             </td><td>F                                      </td><td>H                                      </td><td>24                                     </td><td>TARGET                                 </td><td>23152(A)VC                             </td><td>drunk-driving-alcoholdrugs             </td></tr>\n",
       "</tbody>\n",
       "</table>\n"
      ],
      "text/latex": [
       "\\begin{tabular}{r|lllllllllll}\n",
       " booking\\_num & homeless & arrest\\_year & arrest\\_ymd & booking\\_ymd & gender & race & age & occupation & charge\\_code & charge\\_desc\\\\\n",
       "\\hline\n",
       "\t 2497688                                 & 0                                       & 2011                                    & 2011-01-01                              & 2011-01-01                              & M                                       & W                                       & 25                                      & ENGINEER                                & 23152(A)VC                              & drunk-driving-alcoholdrugs             \\\\\n",
       "\t 2497689                                 & 0                                       & 2011                                    & 2011-01-01                              & 2011-01-01                              & M                                       & H                                       & 38                                      & AGENT                                   & 23152(A)VC                              & drunk-driving-alcoholdrugs             \\\\\n",
       "\t 2497690                                 & 0                                       & 2011                                    & 2011-01-01                              & 2011-01-01                              & M                                       & W                                       & 25                                      & BUSINESS DEV                            & 23152(A)VC                              & drunk-driving-alcoholdrugs             \\\\\n",
       "\t 2497697                                 & 0                                       & 2011                                    & 2011-01-01                              & 2011-01-01                              & F                                       & W                                       & 40                                      & NONE                                    & 273.5(A)PC                              & corporal-injury-on-spousecohabitantet  \\\\\n",
       "\t 2497698                                 & 0                                       & 2011                                    & 2011-01-01                              & 2011-01-01                              & M                                       & H                                       & 34                                      & LABORER                                 & 12021(A)PC                              & poss-firearm-by-convictd-felonaddicte-1\\\\\n",
       "\t 2497699                                 & 0                                       & 2011                                    & 2011-01-01                              & 2011-01-01                              & F                                       & H                                       & 24                                      & TARGET                                  & 23152(A)VC                              & drunk-driving-alcoholdrugs             \\\\\n",
       "\\end{tabular}\n"
      ],
      "text/markdown": [
       "\n",
       "booking_num | homeless | arrest_year | arrest_ymd | booking_ymd | gender | race | age | occupation | charge_code | charge_desc | \n",
       "|---|---|---|---|---|---|\n",
       "| 2497688                                 | 0                                       | 2011                                    | 2011-01-01                              | 2011-01-01                              | M                                       | W                                       | 25                                      | ENGINEER                                | 23152(A)VC                              | drunk-driving-alcoholdrugs              | \n",
       "| 2497689                                 | 0                                       | 2011                                    | 2011-01-01                              | 2011-01-01                              | M                                       | H                                       | 38                                      | AGENT                                   | 23152(A)VC                              | drunk-driving-alcoholdrugs              | \n",
       "| 2497690                                 | 0                                       | 2011                                    | 2011-01-01                              | 2011-01-01                              | M                                       | W                                       | 25                                      | BUSINESS DEV                            | 23152(A)VC                              | drunk-driving-alcoholdrugs              | \n",
       "| 2497697                                 | 0                                       | 2011                                    | 2011-01-01                              | 2011-01-01                              | F                                       | W                                       | 40                                      | NONE                                    | 273.5(A)PC                              | corporal-injury-on-spousecohabitantet   | \n",
       "| 2497698                                 | 0                                       | 2011                                    | 2011-01-01                              | 2011-01-01                              | M                                       | H                                       | 34                                      | LABORER                                 | 12021(A)PC                              | poss-firearm-by-convictd-felonaddicte-1 | \n",
       "| 2497699                                 | 0                                       | 2011                                    | 2011-01-01                              | 2011-01-01                              | F                                       | H                                       | 24                                      | TARGET                                  | 23152(A)VC                              | drunk-driving-alcoholdrugs              | \n",
       "\n",
       "\n"
      ],
      "text/plain": [
       "  booking_num homeless arrest_year arrest_ymd booking_ymd gender race age\n",
       "1 2497688     0        2011        2011-01-01 2011-01-01  M      W    25 \n",
       "2 2497689     0        2011        2011-01-01 2011-01-01  M      H    38 \n",
       "3 2497690     0        2011        2011-01-01 2011-01-01  M      W    25 \n",
       "4 2497697     0        2011        2011-01-01 2011-01-01  F      W    40 \n",
       "5 2497698     0        2011        2011-01-01 2011-01-01  M      H    34 \n",
       "6 2497699     0        2011        2011-01-01 2011-01-01  F      H    24 \n",
       "  occupation   charge_code charge_desc                            \n",
       "1 ENGINEER     23152(A)VC  drunk-driving-alcoholdrugs             \n",
       "2 AGENT        23152(A)VC  drunk-driving-alcoholdrugs             \n",
       "3 BUSINESS DEV 23152(A)VC  drunk-driving-alcoholdrugs             \n",
       "4 NONE         273.5(A)PC  corporal-injury-on-spousecohabitantet  \n",
       "5 LABORER      12021(A)PC  poss-firearm-by-convictd-felonaddicte-1\n",
       "6 TARGET       23152(A)VC  drunk-driving-alcoholdrugs             "
      ]
     },
     "metadata": {},
     "output_type": "display_data"
    }
   ],
   "source": [
    "head(data)"
   ]
  },
  {
   "cell_type": "markdown",
   "metadata": {},
   "source": [
    "Group the data by arrest year and homeless and sum the total number of arrests"
   ]
  },
  {
   "cell_type": "code",
   "execution_count": 25,
   "metadata": {},
   "outputs": [],
   "source": [
    "arrest.totals <- data %>% \n",
    "  group_by(arrest_year, homeless) %>% \n",
    "  distinct(booking_num) %>% \n",
    "  summarize(arrests_number = n())"
   ]
  },
  {
   "cell_type": "markdown",
   "metadata": {},
   "source": [
    "Filter to homeless arrests"
   ]
  },
  {
   "cell_type": "code",
   "execution_count": 26,
   "metadata": {},
   "outputs": [
    {
     "data": {
      "text/html": [
       "<table>\n",
       "<thead><tr><th scope=col>arrest_year</th><th scope=col>homeless</th><th scope=col>arrests_number</th></tr></thead>\n",
       "<tbody>\n",
       "\t<tr><td>2011 </td><td>1    </td><td>10496</td></tr>\n",
       "\t<tr><td>2012 </td><td>1    </td><td>11837</td></tr>\n",
       "\t<tr><td>2013 </td><td>1    </td><td>12237</td></tr>\n",
       "\t<tr><td>2014 </td><td>1    </td><td>12622</td></tr>\n",
       "\t<tr><td>2015 </td><td>1    </td><td>13418</td></tr>\n",
       "\t<tr><td>2016 </td><td>1    </td><td>14011</td></tr>\n",
       "</tbody>\n",
       "</table>\n"
      ],
      "text/latex": [
       "\\begin{tabular}{r|lll}\n",
       " arrest\\_year & homeless & arrests\\_number\\\\\n",
       "\\hline\n",
       "\t 2011  & 1     & 10496\\\\\n",
       "\t 2012  & 1     & 11837\\\\\n",
       "\t 2013  & 1     & 12237\\\\\n",
       "\t 2014  & 1     & 12622\\\\\n",
       "\t 2015  & 1     & 13418\\\\\n",
       "\t 2016  & 1     & 14011\\\\\n",
       "\\end{tabular}\n"
      ],
      "text/markdown": [
       "\n",
       "arrest_year | homeless | arrests_number | \n",
       "|---|---|---|---|---|---|\n",
       "| 2011  | 1     | 10496 | \n",
       "| 2012  | 1     | 11837 | \n",
       "| 2013  | 1     | 12237 | \n",
       "| 2014  | 1     | 12622 | \n",
       "| 2015  | 1     | 13418 | \n",
       "| 2016  | 1     | 14011 | \n",
       "\n",
       "\n"
      ],
      "text/plain": [
       "  arrest_year homeless arrests_number\n",
       "1 2011        1        10496         \n",
       "2 2012        1        11837         \n",
       "3 2013        1        12237         \n",
       "4 2014        1        12622         \n",
       "5 2015        1        13418         \n",
       "6 2016        1        14011         "
      ]
     },
     "metadata": {},
     "output_type": "display_data"
    }
   ],
   "source": [
    "homeless.totals <- arrest.totals %>% filter(homeless == 1)\n",
    "homeless.totals"
   ]
  },
  {
   "cell_type": "code",
   "execution_count": 27,
   "metadata": {},
   "outputs": [
    {
     "name": "stdout",
     "output_type": "stream",
     "text": [
      "[1] \"The *raw* increase in homeless arrests between 2011 and 2016 is 33%\"\n"
     ]
    }
   ],
   "source": [
    "print(paste0(\"The *raw* increase in homeless arrests between 2011 and 2016 is \", \n",
    "            round((homeless.totals[homeless.totals$arrest_year == 2016,]$arrests_number / \n",
    "            homeless.totals[homeless.totals$arrest_year == 2011,]$arrests_number - 1) * 100), \"%\"))"
   ]
  },
  {
   "cell_type": "markdown",
   "metadata": {},
   "source": [
    "However, there are some missing dates in the data"
   ]
  },
  {
   "cell_type": "code",
   "execution_count": 28,
   "metadata": {},
   "outputs": [],
   "source": [
    "# extract the booking dates as a vector\n",
    "booking.dates <- data %>% select(booking_ymd)\n",
    "booking.dates <- booking.dates %>% distinct(booking_ymd) %>% select(booking_ymd) %>% arrange(booking_ymd)\n",
    "booking.dates$has.data = 1\n",
    "\n",
    "# get the time period (minimum date and maximum date) of the data set\n",
    "time.min <- booking.dates$booking_ymd[1]\n",
    "time.max <- booking.dates$booking_ymd[length(booking.dates$booking_ymd) - 1] \n",
    "\n",
    "# create a dataframe of all the days spanning that time period\n",
    "all.dates.frame <- data.frame(list(booking_ymd = seq(time.min, time.max, by=\"day\")))\n",
    "\n",
    "# merge this dataframe with the vector of booking dates to find the missing dates\n",
    "merged.data <- merge(all.dates.frame, booking.dates , all=T)\n",
    "missing.dates <- merged.data %>% filter(is.na(has.data) == T)"
   ]
  },
  {
   "cell_type": "markdown",
   "metadata": {},
   "source": [
    "There were six days in 2011 for which arrests data were not available"
   ]
  },
  {
   "cell_type": "code",
   "execution_count": 29,
   "metadata": {},
   "outputs": [
    {
     "data": {
      "text/html": [
       "<table>\n",
       "<thead><tr><th scope=col>booking_ymd</th><th scope=col>has.data</th></tr></thead>\n",
       "<tbody>\n",
       "\t<tr><td>2011-02-20</td><td>NA        </td></tr>\n",
       "\t<tr><td>2011-03-17</td><td>NA        </td></tr>\n",
       "\t<tr><td>2011-04-17</td><td>NA        </td></tr>\n",
       "\t<tr><td>2011-05-18</td><td>NA        </td></tr>\n",
       "\t<tr><td>2011-06-11</td><td>NA        </td></tr>\n",
       "\t<tr><td>2011-08-04</td><td>NA        </td></tr>\n",
       "</tbody>\n",
       "</table>\n"
      ],
      "text/latex": [
       "\\begin{tabular}{r|ll}\n",
       " booking\\_ymd & has.data\\\\\n",
       "\\hline\n",
       "\t 2011-02-20 & NA        \\\\\n",
       "\t 2011-03-17 & NA        \\\\\n",
       "\t 2011-04-17 & NA        \\\\\n",
       "\t 2011-05-18 & NA        \\\\\n",
       "\t 2011-06-11 & NA        \\\\\n",
       "\t 2011-08-04 & NA        \\\\\n",
       "\\end{tabular}\n"
      ],
      "text/markdown": [
       "\n",
       "booking_ymd | has.data | \n",
       "|---|---|---|---|---|---|\n",
       "| 2011-02-20 | NA         | \n",
       "| 2011-03-17 | NA         | \n",
       "| 2011-04-17 | NA         | \n",
       "| 2011-05-18 | NA         | \n",
       "| 2011-06-11 | NA         | \n",
       "| 2011-08-04 | NA         | \n",
       "\n",
       "\n"
      ],
      "text/plain": [
       "  booking_ymd has.data\n",
       "1 2011-02-20  NA      \n",
       "2 2011-03-17  NA      \n",
       "3 2011-04-17  NA      \n",
       "4 2011-05-18  NA      \n",
       "5 2011-06-11  NA      \n",
       "6 2011-08-04  NA      "
      ]
     },
     "metadata": {},
     "output_type": "display_data"
    }
   ],
   "source": [
    "missing.dates"
   ]
  },
  {
   "cell_type": "markdown",
   "metadata": {},
   "source": [
    "Pro-rate the 2011 figure to account for the missing six days"
   ]
  },
  {
   "cell_type": "code",
   "execution_count": 30,
   "metadata": {},
   "outputs": [
    {
     "data": {
      "text/html": [
       "10671.4206128134"
      ],
      "text/latex": [
       "10671.4206128134"
      ],
      "text/markdown": [
       "10671.4206128134"
      ],
      "text/plain": [
       "[1] 10671.42"
      ]
     },
     "metadata": {},
     "output_type": "display_data"
    }
   ],
   "source": [
    "prorated.homeless.2011 <- homeless.totals[homeless.totals$arrest_year == 2011,]$arrests_number/(365 - 6) * 365\n",
    "prorated.homeless.2011"
   ]
  },
  {
   "cell_type": "code",
   "execution_count": 31,
   "metadata": {},
   "outputs": [
    {
     "name": "stdout",
     "output_type": "stream",
     "text": [
      "[1] \"The *prorated* change in homeless arrests between 2011 and 2016 is 31% (rounded down to 30% in the story)\"\n"
     ]
    }
   ],
   "source": [
    "print(paste0(\"The *prorated* change in homeless arrests between 2011 and 2016 is \", \n",
    "            round((homeless.totals[homeless.totals$arrest_year == 2016,]$arrests_number / \n",
    "            prorated.homeless.2011 - 1) * 100), \"% (rounded down to 30% in the story)\"))"
   ]
  },
  {
   "cell_type": "markdown",
   "metadata": {},
   "source": [
    "### Finding: LAPD arrests overall went down 15% from 2011 to 2016"
   ]
  },
  {
   "cell_type": "markdown",
   "metadata": {},
   "source": [
    "Group `arrest.totals` by arrest year and sum the total number of arrests to get the overall arrest numbers for each year."
   ]
  },
  {
   "cell_type": "code",
   "execution_count": 32,
   "metadata": {},
   "outputs": [],
   "source": [
    "all.totals <- arrest.totals %>% \n",
    "  group_by(arrest_year) %>% \n",
    "  summarize(arrests_number = sum(arrests_number))"
   ]
  },
  {
   "cell_type": "code",
   "execution_count": 33,
   "metadata": {},
   "outputs": [
    {
     "data": {
      "text/html": [
       "<table>\n",
       "<thead><tr><th scope=col>arrest_year</th><th scope=col>arrests_number</th></tr></thead>\n",
       "<tbody>\n",
       "\t<tr><td>2011  </td><td> 96701</td></tr>\n",
       "\t<tr><td>2012  </td><td>101234</td></tr>\n",
       "\t<tr><td>2013  </td><td> 98126</td></tr>\n",
       "\t<tr><td>2014  </td><td> 94077</td></tr>\n",
       "\t<tr><td>2015  </td><td> 87067</td></tr>\n",
       "\t<tr><td>2016  </td><td> 83608</td></tr>\n",
       "</tbody>\n",
       "</table>\n"
      ],
      "text/latex": [
       "\\begin{tabular}{r|ll}\n",
       " arrest\\_year & arrests\\_number\\\\\n",
       "\\hline\n",
       "\t 2011   &  96701\\\\\n",
       "\t 2012   & 101234\\\\\n",
       "\t 2013   &  98126\\\\\n",
       "\t 2014   &  94077\\\\\n",
       "\t 2015   &  87067\\\\\n",
       "\t 2016   &  83608\\\\\n",
       "\\end{tabular}\n"
      ],
      "text/markdown": [
       "\n",
       "arrest_year | arrests_number | \n",
       "|---|---|---|---|---|---|\n",
       "| 2011   |  96701 | \n",
       "| 2012   | 101234 | \n",
       "| 2013   |  98126 | \n",
       "| 2014   |  94077 | \n",
       "| 2015   |  87067 | \n",
       "| 2016   |  83608 | \n",
       "\n",
       "\n"
      ],
      "text/plain": [
       "  arrest_year arrests_number\n",
       "1 2011         96701        \n",
       "2 2012        101234        \n",
       "3 2013         98126        \n",
       "4 2014         94077        \n",
       "5 2015         87067        \n",
       "6 2016         83608        "
      ]
     },
     "metadata": {},
     "output_type": "display_data"
    }
   ],
   "source": [
    "all.totals"
   ]
  },
  {
   "cell_type": "code",
   "execution_count": 34,
   "metadata": {},
   "outputs": [
    {
     "name": "stdout",
     "output_type": "stream",
     "text": [
      "[1] \"The *raw* change in overall arrests between 2011 and 2016 is -14%\"\n"
     ]
    }
   ],
   "source": [
    "print(paste0(\"The *raw* change in overall arrests between 2011 and 2016 is \", \n",
    "            round((all.totals[all.totals$arrest_year == 2016,]$arrests_number / \n",
    "            all.totals[all.totals$arrest_year == 2011,]$arrests_number - 1) * 100), \"%\"))"
   ]
  },
  {
   "cell_type": "markdown",
   "metadata": {},
   "source": [
    "Again, we need to pro-rate to take into account the six missing days in 2011."
   ]
  },
  {
   "cell_type": "code",
   "execution_count": 35,
   "metadata": {},
   "outputs": [
    {
     "data": {
      "text/html": [
       "98317.1727019499"
      ],
      "text/latex": [
       "98317.1727019499"
      ],
      "text/markdown": [
       "98317.1727019499"
      ],
      "text/plain": [
       "[1] 98317.17"
      ]
     },
     "metadata": {},
     "output_type": "display_data"
    }
   ],
   "source": [
    "prorated.arrests.2011 <- all.totals[all.totals$arrest_year == 2011,]$arrests_number/(365 - 6) * 365\n",
    "prorated.arrests.2011"
   ]
  },
  {
   "cell_type": "code",
   "execution_count": 36,
   "metadata": {},
   "outputs": [
    {
     "name": "stdout",
     "output_type": "stream",
     "text": [
      "[1] \"The *prorated* change between 2011 and 2016 is -15%\"\n"
     ]
    }
   ],
   "source": [
    "print(paste0(\"The *prorated* change between 2011 and 2016 is \", \n",
    "            round((all.totals[all.totals$arrest_year == 2016,]$arrests_number / \n",
    "            prorated.arrests.2011 - 1) * 100), \"%\"))"
   ]
  },
  {
   "cell_type": "markdown",
   "metadata": {},
   "source": [
    "### Finding: Two-thirds of those arrested were black or Latino"
   ]
  },
  {
   "cell_type": "markdown",
   "metadata": {},
   "source": [
    "Group the data by arrest year, homeless, and race/ethnicity"
   ]
  },
  {
   "cell_type": "code",
   "execution_count": 37,
   "metadata": {},
   "outputs": [],
   "source": [
    "arrests.race <- data %>% \n",
    "  group_by(arrest_year, homeless, race)  %>%\n",
    "  distinct(booking_num)"
   ]
  },
  {
   "cell_type": "markdown",
   "metadata": {},
   "source": [
    "Create a variable, `race.grp` to represent racial/ethnic grouping, where W = white, B = black, H = Latino (Hispanic), etc."
   ]
  },
  {
   "cell_type": "code",
   "execution_count": 39,
   "metadata": {},
   "outputs": [
    {
     "data": {
      "text/plain": [
       "\n",
       "     A      B      C      F      H      I      J      K      O      P      W \n",
       "    41 171726    431    541 253265     81    102      4  32248    104 102270 "
      ]
     },
     "metadata": {},
     "output_type": "display_data"
    }
   ],
   "source": [
    "table(arrests.race$race)"
   ]
  },
  {
   "cell_type": "code",
   "execution_count": 41,
   "metadata": {},
   "outputs": [],
   "source": [
    "arrests.race$race.grp <- ifelse(arrests.race$race == 'W', \"White\",\n",
    "                                ifelse(arrests.race$race == 'B', \"Black\",\n",
    "                                       ifelse(arrests.race$race == 'H', \"Latino\",\n",
    "                                              ifelse(arrests.race$race == 'A' | arrests.race$race == 'C' | arrests.race$race == 'J'| arrests.race$race == 'K'| arrests.race$race == 'F', \"Asian\",\n",
    "                                                     'Other'))))"
   ]
  },
  {
   "cell_type": "markdown",
   "metadata": {},
   "source": [
    "Group by `race.grp` and calculate the total number and percentage of homeless arrests"
   ]
  },
  {
   "cell_type": "code",
   "execution_count": 42,
   "metadata": {},
   "outputs": [
    {
     "data": {
      "text/html": [
       "<table>\n",
       "<thead><tr><th scope=col>arrest_year</th><th scope=col>homeless</th><th scope=col>race.grp</th><th scope=col>arrests_number</th><th scope=col>arrests_percent</th></tr></thead>\n",
       "<tbody>\n",
       "\t<tr><td>2016      </td><td>1         </td><td>Black     </td><td>4997      </td><td>35.6648348</td></tr>\n",
       "\t<tr><td>2016      </td><td>1         </td><td>Latino    </td><td>4681      </td><td>33.4094640</td></tr>\n",
       "\t<tr><td>2016      </td><td>1         </td><td>White     </td><td>3833      </td><td>27.3570766</td></tr>\n",
       "\t<tr><td>2016      </td><td>1         </td><td>Other     </td><td> 481      </td><td> 3.4330169</td></tr>\n",
       "\t<tr><td>2016      </td><td>1         </td><td>Asian     </td><td>  19      </td><td> 0.1356077</td></tr>\n",
       "</tbody>\n",
       "</table>\n"
      ],
      "text/latex": [
       "\\begin{tabular}{r|lllll}\n",
       " arrest\\_year & homeless & race.grp & arrests\\_number & arrests\\_percent\\\\\n",
       "\\hline\n",
       "\t 2016       & 1          & Black      & 4997       & 35.6648348\\\\\n",
       "\t 2016       & 1          & Latino     & 4681       & 33.4094640\\\\\n",
       "\t 2016       & 1          & White      & 3833       & 27.3570766\\\\\n",
       "\t 2016       & 1          & Other      &  481       &  3.4330169\\\\\n",
       "\t 2016       & 1          & Asian      &   19       &  0.1356077\\\\\n",
       "\\end{tabular}\n"
      ],
      "text/markdown": [
       "\n",
       "arrest_year | homeless | race.grp | arrests_number | arrests_percent | \n",
       "|---|---|---|---|---|\n",
       "| 2016       | 1          | Black      | 4997       | 35.6648348 | \n",
       "| 2016       | 1          | Latino     | 4681       | 33.4094640 | \n",
       "| 2016       | 1          | White      | 3833       | 27.3570766 | \n",
       "| 2016       | 1          | Other      |  481       |  3.4330169 | \n",
       "| 2016       | 1          | Asian      |   19       |  0.1356077 | \n",
       "\n",
       "\n"
      ],
      "text/plain": [
       "  arrest_year homeless race.grp arrests_number arrests_percent\n",
       "1 2016        1        Black    4997           35.6648348     \n",
       "2 2016        1        Latino   4681           33.4094640     \n",
       "3 2016        1        White    3833           27.3570766     \n",
       "4 2016        1        Other     481            3.4330169     \n",
       "5 2016        1        Asian      19            0.1356077     "
      ]
     },
     "metadata": {},
     "output_type": "display_data"
    }
   ],
   "source": [
    "arrests.race.yr <- arrests.race %>%\n",
    "  group_by(arrest_year, homeless, race.grp) %>%\n",
    "  summarize(arrests_number = n()) %>%\n",
    "  mutate(arrests_percent = arrests_number / sum(arrests_number) * 100) \n",
    "\n",
    "arrests.race.yr %>% filter(homeless == 1 & arrest_year == 2016) %>% arrange(desc(arrests_percent))"
   ]
  },
  {
   "cell_type": "code",
   "execution_count": 43,
   "metadata": {
    "scrolled": false
   },
   "outputs": [
    {
     "data": {},
     "metadata": {},
     "output_type": "display_data"
    },
    {
     "data": {
      "image/png": "[encoded data removed]",
      "text/plain": [
       "plot without title"
      ]
     },
     "metadata": {},
     "output_type": "display_data"
    }
   ],
   "source": [
    "ggplot(arrests.race.yr %>% filter(homeless == 1 & arrest_year != 2017), aes(x = arrest_year, \n",
    "                                                                            y = arrests_percent, color = race.grp)) +\n",
    "  geom_line() +\n",
    "  geom_text(data = arrests.race.yr %>% filter(homeless == 1 & \n",
    "                                              arrest_year == 2016), aes(label = race.grp), hjust = 0.7,\n",
    "            vjust = 1) +\n",
    "  scale_y_continuous(limits = c(0, 50)) +\n",
    "  labs(x = \"\", y = \"% of arrests\", title = \"Racial Breakdown of homeless arrests\") +\n",
    "  theme(legend.position = 'none')"
   ]
  },
  {
   "cell_type": "markdown",
   "metadata": {},
   "source": [
    "### Finding: In 2011, one in 10 people arrests citywide were of homeless people; in 2016, it was 1 in 6"
   ]
  },
  {
   "cell_type": "markdown",
   "metadata": {},
   "source": [
    "Use the grouped dataframe `arrest.totals` to calculate percentage of homeless arrests by year"
   ]
  },
  {
   "cell_type": "code",
   "execution_count": 44,
   "metadata": {},
   "outputs": [
    {
     "data": {
      "text/html": [
       "<table>\n",
       "<thead><tr><th scope=col>arrest_year</th><th scope=col>homeless</th><th scope=col>arrests_number</th><th scope=col>arrests_percent</th></tr></thead>\n",
       "<tbody>\n",
       "\t<tr><td>2011    </td><td>1       </td><td>10496   </td><td>10.85408</td></tr>\n",
       "\t<tr><td>2012    </td><td>1       </td><td>11837   </td><td>11.69271</td></tr>\n",
       "\t<tr><td>2013    </td><td>1       </td><td>12237   </td><td>12.47070</td></tr>\n",
       "\t<tr><td>2014    </td><td>1       </td><td>12622   </td><td>13.41667</td></tr>\n",
       "\t<tr><td>2015    </td><td>1       </td><td>13418   </td><td>15.41112</td></tr>\n",
       "\t<tr><td>2016    </td><td>1       </td><td>14011   </td><td>16.75797</td></tr>\n",
       "</tbody>\n",
       "</table>\n"
      ],
      "text/latex": [
       "\\begin{tabular}{r|llll}\n",
       " arrest\\_year & homeless & arrests\\_number & arrests\\_percent\\\\\n",
       "\\hline\n",
       "\t 2011     & 1        & 10496    & 10.85408\\\\\n",
       "\t 2012     & 1        & 11837    & 11.69271\\\\\n",
       "\t 2013     & 1        & 12237    & 12.47070\\\\\n",
       "\t 2014     & 1        & 12622    & 13.41667\\\\\n",
       "\t 2015     & 1        & 13418    & 15.41112\\\\\n",
       "\t 2016     & 1        & 14011    & 16.75797\\\\\n",
       "\\end{tabular}\n"
      ],
      "text/markdown": [
       "\n",
       "arrest_year | homeless | arrests_number | arrests_percent | \n",
       "|---|---|---|---|---|---|\n",
       "| 2011     | 1        | 10496    | 10.85408 | \n",
       "| 2012     | 1        | 11837    | 11.69271 | \n",
       "| 2013     | 1        | 12237    | 12.47070 | \n",
       "| 2014     | 1        | 12622    | 13.41667 | \n",
       "| 2015     | 1        | 13418    | 15.41112 | \n",
       "| 2016     | 1        | 14011    | 16.75797 | \n",
       "\n",
       "\n"
      ],
      "text/plain": [
       "  arrest_year homeless arrests_number arrests_percent\n",
       "1 2011        1        10496          10.85408       \n",
       "2 2012        1        11837          11.69271       \n",
       "3 2013        1        12237          12.47070       \n",
       "4 2014        1        12622          13.41667       \n",
       "5 2015        1        13418          15.41112       \n",
       "6 2016        1        14011          16.75797       "
      ]
     },
     "metadata": {},
     "output_type": "display_data"
    }
   ],
   "source": [
    "arrest.totals %>% \n",
    "    mutate(arrests_percent = arrests_number / sum(arrests_number) * 100) %>%\n",
    "    filter(homeless == 1)"
   ]
  },
  {
   "cell_type": "markdown",
   "metadata": {},
   "source": [
    "### Finding: The 14,000 arrests of homeless people in 2016 included more than 500 unique charges"
   ]
  },
  {
   "cell_type": "markdown",
   "metadata": {},
   "source": [
    "Filter the data to include homeless arrests in 2016 and calculate the number and percent of times each charge was cited. Note that this is done by analyzing each charge separately, so the `times_cited` column will not sum to the total number of arrests per year (arrestees can have multiple charges)."
   ]
  },
  {
   "cell_type": "code",
   "execution_count": 45,
   "metadata": {},
   "outputs": [],
   "source": [
    "arrest.reasons <- data %>% filter(homeless == 1 & arrest_year == 2016) %>% \n",
    "                           group_by(charge_code, charge_desc) %>% \n",
    "                           summarize(times_cited = n()) %>% \n",
    "                           ungroup() %>% \n",
    "                           mutate(percent_cited = times_cited/sum(times_cited) * 100)"
   ]
  },
  {
   "cell_type": "markdown",
   "metadata": {},
   "source": [
    "Get the number of unique charges"
   ]
  },
  {
   "cell_type": "code",
   "execution_count": 46,
   "metadata": {},
   "outputs": [
    {
     "data": {
      "text/html": [
       "523"
      ],
      "text/latex": [
       "523"
      ],
      "text/markdown": [
       "523"
      ],
      "text/plain": [
       "[1] 523"
      ]
     },
     "metadata": {},
     "output_type": "display_data"
    }
   ],
   "source": [
    "length(unique(arrest.reasons$charge_code))"
   ]
  },
  {
   "cell_type": "markdown",
   "metadata": {},
   "source": [
    "### Finding: The most common offense was failure to appear in court for unpaid petty or minor citations"
   ]
  },
  {
   "cell_type": "markdown",
   "metadata": {},
   "source": [
    "Sort by percent of the time the charge was cited to get the top charges"
   ]
  },
  {
   "cell_type": "code",
   "execution_count": 47,
   "metadata": {},
   "outputs": [
    {
     "data": {
      "text/html": [
       "<table>\n",
       "<thead><tr><th scope=col>charge_code</th><th scope=col>charge_desc</th><th scope=col>times_cited</th><th scope=col>percent_cited</th></tr></thead>\n",
       "<tbody>\n",
       "\t<tr><td>853.7PC                        </td><td>fta-after-written-promise      </td><td>4447                           </td><td>21.145982                      </td></tr>\n",
       "\t<tr><td>11377(A)HS                     </td><td>possession-controlled-substance</td><td> 924                           </td><td> 4.393723                      </td></tr>\n",
       "\t<tr><td>459.5PC                        </td><td>                               </td><td> 674                           </td><td> 3.204945                      </td></tr>\n",
       "\t<tr><td>3000.08CPC                     </td><td>                               </td><td> 613                           </td><td> 2.914883                      </td></tr>\n",
       "\t<tr><td>3454(C)PC                      </td><td>                               </td><td> 579                           </td><td> 2.753210                      </td></tr>\n",
       "\t<tr><td>245(A)(1)PC                    </td><td>adw-wo-firearmgbi              </td><td> 530                           </td><td> 2.520209                      </td></tr>\n",
       "</tbody>\n",
       "</table>\n"
      ],
      "text/latex": [
       "\\begin{tabular}{r|llll}\n",
       " charge\\_code & charge\\_desc & times\\_cited & percent\\_cited\\\\\n",
       "\\hline\n",
       "\t 853.7PC                         & fta-after-written-promise       & 4447                            & 21.145982                      \\\\\n",
       "\t 11377(A)HS                      & possession-controlled-substance &  924                            &  4.393723                      \\\\\n",
       "\t 459.5PC                         &                                 &  674                            &  3.204945                      \\\\\n",
       "\t 3000.08CPC                      &                                 &  613                            &  2.914883                      \\\\\n",
       "\t 3454(C)PC                       &                                 &  579                            &  2.753210                      \\\\\n",
       "\t 245(A)(1)PC                     & adw-wo-firearmgbi               &  530                            &  2.520209                      \\\\\n",
       "\\end{tabular}\n"
      ],
      "text/markdown": [
       "\n",
       "charge_code | charge_desc | times_cited | percent_cited | \n",
       "|---|---|---|---|---|---|\n",
       "| 853.7PC                         | fta-after-written-promise       | 4447                            | 21.145982                       | \n",
       "| 11377(A)HS                      | possession-controlled-substance |  924                            |  4.393723                       | \n",
       "| 459.5PC                         |                                 |  674                            |  3.204945                       | \n",
       "| 3000.08CPC                      |                                 |  613                            |  2.914883                       | \n",
       "| 3454(C)PC                       |                                 |  579                            |  2.753210                       | \n",
       "| 245(A)(1)PC                     | adw-wo-firearmgbi               |  530                            |  2.520209                       | \n",
       "\n",
       "\n"
      ],
      "text/plain": [
       "  charge_code charge_desc                     times_cited percent_cited\n",
       "1 853.7PC     fta-after-written-promise       4447        21.145982    \n",
       "2 11377(A)HS  possession-controlled-substance  924         4.393723    \n",
       "3 459.5PC                                      674         3.204945    \n",
       "4 3000.08CPC                                   613         2.914883    \n",
       "5 3454(C)PC                                    579         2.753210    \n",
       "6 245(A)(1)PC adw-wo-firearmgbi                530         2.520209    "
      ]
     },
     "metadata": {},
     "output_type": "display_data"
    }
   ],
   "source": [
    "head(arrest.reasons %>% arrange(desc(percent_cited)))"
   ]
  },
  {
   "cell_type": "markdown",
   "metadata": {},
   "source": [
    "Many codes did not come with charge descriptions in the data. Those that appear in the above table are described as follows:\n",
    "\n",
    "* 459.5PC: shoplifting\n",
    "* 3000.08CPC: parole warrant\n",
    "* 3454(C)PC: flash incarceration"
   ]
  },
  {
   "cell_type": "markdown",
   "metadata": {},
   "source": [
    "### Finding: The top five charges were for non-violent or minor offenses"
   ]
  },
  {
   "cell_type": "markdown",
   "metadata": {},
   "source": [
    "Some charge codes are grouped, largely according to [this](http://milliondollarhoods.org/wp-content/uploads/2017/10/Policing-the-House-2.0.FINAL_.pdf) UCLA report. For example. charge codes 40508(A)VC, 853.7PC, and 853.8PC all cover failure to appear."
   ]
  },
  {
   "cell_type": "code",
   "execution_count": 48,
   "metadata": {},
   "outputs": [],
   "source": [
    "arrest.reasons$failure <- ifelse(arrest.reasons$charge_code == '40508(A)VC'|\n",
    "                                 arrest.reasons$charge_code == '853.7PC'|\n",
    "                                 arrest.reasons$charge_code == '853.8PC', 1, 0)\n",
    "\n",
    "arrest.reasons$trespass <- ifelse(arrest.reasons$charge_code == '419PC'|\n",
    "                                  arrest.reasons$charge_code == '602(K)PC'|\n",
    "                                  arrest.reasons$charge_code == '602(O)(2)PC'|\n",
    "                                  arrest.reasons$charge_code == '602.5(A)PC'|\n",
    "                                  arrest.reasons$charge_code == '555PC'|\n",
    "                                  arrest.reasons$charge_code == '484F(A)PC'|\n",
    "                                  arrest.reasons$charge_code == '602(L)(1)PC'|\n",
    "                                  arrest.reasons$charge_code == '602(P)PC'|\n",
    "                                  arrest.reasons$charge_code == '602.5(B)PC'|\n",
    "                                  arrest.reasons$charge_code == '602PC'|\n",
    "                                  arrest.reasons$charge_code == '602(M)PC'|\n",
    "                                  arrest.reasons$charge_code == '602(Q)PC'|\n",
    "                                  arrest.reasons$charge_code == '602.8PC'|\n",
    "                                  arrest.reasons$charge_code == '602(A)PC'|\n",
    "                                  arrest.reasons$charge_code == 'A602(N)1PC'|\n",
    "                                  arrest.reasons$charge_code == '602(S)PC'|\n",
    "                                  arrest.reasons$charge_code == '626.8(A)1PC'|\n",
    "                                  arrest.reasons$charge_code == '602(D)PC'|\n",
    "                                  arrest.reasons$charge_code == '602(N)PC'|\n",
    "                                  arrest.reasons$charge_code == '602(U)(1)PC'|\n",
    "                                  arrest.reasons$charge_code == '647(E)PC'|\n",
    "                                  arrest.reasons$charge_code == '602(F)PC'|\n",
    "                                  arrest.reasons$charge_code == '602(O)PC'|\n",
    "                                  arrest.reasons$charge_code == '602.1(A)PC'| \n",
    "                                  arrest.reasons$charge_code == '647(H)PCLPP'| \n",
    "                                  arrest.reasons$charge_code == '602(J)PC'| \n",
    "                                  arrest.reasons$charge_code == '602(O)(1)PC'| \n",
    "                                  arrest.reasons$charge_code == '602.1(B)PC'| \n",
    "                                  arrest.reasons$charge_code == '369I(A)PC', 1, 0)\n",
    "\n",
    "arrest.reasons$shoplift <- ifelse(arrest.reasons$charge_code == '18 1708'|\n",
    "                                  arrest.reasons$charge_code == '484PCTFMV'|\n",
    "                                  arrest.reasons$charge_code == '485PC'|\n",
    "                                  arrest.reasons$charge_code == '488PC'|\n",
    "                                  arrest.reasons$charge_code == '459.5PC'|\n",
    "                                  arrest.reasons$charge_code == '484F(A)PC'|\n",
    "                                  arrest.reasons$charge_code == 'A488PC'|\n",
    "                                  arrest.reasons$charge_code == '490PC'|\n",
    "                                  arrest.reasons$charge_code == 'A484PC'|\n",
    "                                  arrest.reasons$charge_code == '484E(D)PC'|\n",
    "                                  arrest.reasons$charge_code == '666PC'|\n",
    "                                  arrest.reasons$charge_code == '484PC'|\n",
    "                                  arrest.reasons$charge_code == '490.2PC'|\n",
    "                                  arrest.reasons$charge_code == '666(A)PC'|\n",
    "                                  arrest.reasons$charge_code == '484(A)PC'|\n",
    "                                  arrest.reasons$charge_code == '490.5(A)PC'|\n",
    "                                  arrest.reasons$charge_code == '537(A)(1)PC'|\n",
    "                                  arrest.reasons$charge_code == '666.5PC'|\n",
    "                                  arrest.reasons$charge_code == '484E(A)PC'|\n",
    "                                  arrest.reasons$charge_code == '587CPC'|\n",
    "                                  arrest.reasons$charge_code == '666.5(A)PC'|\n",
    "                                  arrest.reasons$charge_code == '484E(B)PC', 1, 0)\n",
    "\n",
    "arrest.reasons$supervision_viol <- ifelse(arrest.reasons$charge_code == '1203.2PC'|\n",
    "                                          arrest.reasons$charge_code == '3000.08CPC'|\n",
    "                                          arrest.reasons$charge_code == '3454(C)PC'| \n",
    "                                          arrest.reasons$charge_code == '3455(B)1PC'|\n",
    "                                          arrest.reasons$charge_code == '1203.2(A)PC'|\n",
    "                                          arrest.reasons$charge_code == '3056PC'|\n",
    "                                          arrest.reasons$charge_code == '3455(A)4PC'|\n",
    "                                          arrest.reasons$charge_code == '3455(C)PC'|\n",
    "                                          arrest.reasons$charge_code == '3000.08FPC'|\n",
    "                                          arrest.reasons$charge_code == '3454PC'|\n",
    "                                          arrest.reasons$charge_code == '3455(A)PC'|\n",
    "                                          arrest.reasons$charge_code == '18 3606US', 1, 0)\n",
    "\n",
    "arrest.reasons$drug_poss <- ifelse(arrest.reasons$charge_code == '11377(A)HS'|\n",
    "                                   arrest.reasons$charge_code == '11377(A)1HS'|\n",
    "                                   arrest.reasons$charge_code == '11377HS'| \n",
    "                                   arrest.reasons$charge_code == '11350(A)HS'|\n",
    "                                   arrest.reasons$charge_code == '11350HS'|\n",
    "                                   arrest.reasons$charge_code == '11357HS'|\n",
    "                                   arrest.reasons$charge_code == '11357(A)HS'|\n",
    "                                   arrest.reasons$charge_code == '11357(B)HS'|\n",
    "                                   arrest.reasons$charge_code == '11357(C)HS'|\n",
    "                                   arrest.reasons$charge_code == '4573.6PC'|\n",
    "                                   arrest.reasons$charge_code == '11550(A)HS'|\n",
    "                                   arrest.reasons$charge_code == '11375(B)2HS'|\n",
    "                                   arrest.reasons$charge_code == '11351HS'|\n",
    "                                   arrest.reasons$charge_code == '4060BP', 1, 0)\n",
    "\n",
    "arrest.reasons$charge_desc_grouped <- ifelse(arrest.reasons$drug_poss == 1, 'drug_poss',\n",
    "                                             ifelse(arrest.reasons$trespass == 1, 'trespass',\n",
    "                                                    ifelse(arrest.reasons$shoplift == 1, 'shoplift',\n",
    "                                                           ifelse(arrest.reasons$supervision_viol == 1, 'supervision violation',\n",
    "                                                                  ifelse(arrest.reasons$failure == 1, 'failure to appear',\n",
    "                                                                         arrest.reasons$charge_code)))))"
   ]
  },
  {
   "cell_type": "markdown",
   "metadata": {},
   "source": [
    "Get top five offenses using `charge_desc_grouped` as the charge identifier"
   ]
  },
  {
   "cell_type": "code",
   "execution_count": 49,
   "metadata": {},
   "outputs": [
    {
     "data": {
      "text/html": [
       "<table>\n",
       "<thead><tr><th scope=col>charge_desc_grouped</th><th scope=col>times_cited</th><th scope=col>perc_cited</th></tr></thead>\n",
       "<tbody>\n",
       "\t<tr><td>failure to appear    </td><td>4576                 </td><td>21.759391            </td></tr>\n",
       "\t<tr><td>drug_poss            </td><td>2147                 </td><td>10.209225            </td></tr>\n",
       "\t<tr><td>supervision violation</td><td>2085                 </td><td> 9.914408            </td></tr>\n",
       "\t<tr><td>shoplift             </td><td>1650                 </td><td> 7.845934            </td></tr>\n",
       "\t<tr><td>trespass             </td><td>1056                 </td><td> 5.021398            </td></tr>\n",
       "</tbody>\n",
       "</table>\n"
      ],
      "text/latex": [
       "\\begin{tabular}{r|lll}\n",
       " charge\\_desc\\_grouped & times\\_cited & perc\\_cited\\\\\n",
       "\\hline\n",
       "\t failure to appear     & 4576                  & 21.759391            \\\\\n",
       "\t drug\\_poss             & 2147                    & 10.209225              \\\\\n",
       "\t supervision violation & 2085                  &  9.914408            \\\\\n",
       "\t shoplift              & 1650                  &  7.845934            \\\\\n",
       "\t trespass              & 1056                  &  5.021398            \\\\\n",
       "\\end{tabular}\n"
      ],
      "text/markdown": [
       "\n",
       "charge_desc_grouped | times_cited | perc_cited | \n",
       "|---|---|---|---|---|\n",
       "| failure to appear     | 4576                  | 21.759391             | \n",
       "| drug_poss             | 2147                  | 10.209225             | \n",
       "| supervision violation | 2085                  |  9.914408             | \n",
       "| shoplift              | 1650                  |  7.845934             | \n",
       "| trespass              | 1056                  |  5.021398             | \n",
       "\n",
       "\n"
      ],
      "text/plain": [
       "  charge_desc_grouped   times_cited perc_cited\n",
       "1 failure to appear     4576        21.759391 \n",
       "2 drug_poss             2147        10.209225 \n",
       "3 supervision violation 2085         9.914408 \n",
       "4 shoplift              1650         7.845934 \n",
       "5 trespass              1056         5.021398 "
      ]
     },
     "metadata": {},
     "output_type": "display_data"
    }
   ],
   "source": [
    "arrest.reasons %>% group_by(charge_desc_grouped) %>% \n",
    "    summarise(times_cited = sum(times_cited)) %>% \n",
    "    mutate(perc_cited = times_cited/sum(times_cited) * 100) %>% arrange(desc(times_cited)) %>% head(5)"
   ]
  }
 ],
 "metadata": {
  "kernelspec": {
   "display_name": "R",
   "language": "R",
   "name": "ir"
  },
  "language_info": {
   "codemirror_mode": "r",
   "file_extension": ".r",
   "mimetype": "text/x-r-source",
   "name": "R",
   "pygments_lexer": "r",
   "version": "3.4.0"
  }
 },
 "nbformat": 4,
 "nbformat_minor": 2
}
